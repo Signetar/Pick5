{
 "cells": [
  {
   "cell_type": "markdown",
   "metadata": {},
   "source": [
    "## first load the analyser"
   ]
  },
  {
   "cell_type": "code",
   "execution_count": null,
   "metadata": {},
   "outputs": [],
   "source": [
    "from analysis import Analyser\n",
    "tool = Analyser('file path here!!')"
   ]
  },
  {
   "cell_type": "code",
   "execution_count": null,
   "metadata": {},
   "outputs": [],
   "source": [
    "## if you wanna check player score\n",
    "tool.player_score('player name')\n",
    "\n",
    "## zscore analysis\n",
    "tool.player_zscore_analysis('player name')\n",
    "tool.player_zscore_analysis('player name', plot=True) #if you want to plot"
   ]
  }
 ],
 "metadata": {
  "language_info": {
   "name": "python"
  }
 },
 "nbformat": 4,
 "nbformat_minor": 2
}
